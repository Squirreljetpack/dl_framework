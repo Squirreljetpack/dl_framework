{
 "cells": [
  {
   "cell_type": "code",
   "execution_count": 28,
   "metadata": {},
   "outputs": [
    {
     "name": "stdout",
     "output_type": "stream",
     "text": [
      "The autoreload extension is already loaded. To reload it, use:\n",
      "  %reload_ext autoreload\n"
     ]
    }
   ],
   "source": [
    "# imports\n",
    "\n",
    "## allow interaction with the plots\n",
    "%matplotlib widget\n",
    "\n",
    "%load_ext autoreload\n",
    "%autoreload 2\n",
    "\n",
    "# add the main directory reference and import 'imports.py'\n",
    "import sys\n",
    "\n",
    "if \"..\" not in sys.path:\n",
    "    sys.path.insert(0, \"..\")\n",
    "from imports import *\n",
    "\n",
    "logger = logging.getLogger()\n",
    "logger.setLevel(level=logging.WARN)"
   ]
  },
  {
   "cell_type": "code",
   "execution_count": 4,
   "metadata": {},
   "outputs": [
    {
     "name": "stdout",
     "output_type": "stream",
     "text": [
      "shape: (5, 21)\n",
      "┌───────────┬───────────┬───────────┬───────────┬───┬───────────┬───────────┬───────────┬──────────┐\n",
      "│ partcipan ┆ year      ┆ climbing  ┆ climbing  ┆ … ┆ board     ┆ 20mm      ┆ power     ┆ vertical │\n",
      "│ t         ┆ athlete   ┆ experienc ┆ frequency ┆   ┆ grade #   ┆ crimp     ┆ slap test ┆ jump     │\n",
      "│ ---       ┆ was born  ┆ e         ┆ per week  ┆   ┆ ---       ┆ strength  ┆ (ratio of ┆ height   │\n",
      "│ i64       ┆ ---       ┆ ---       ┆ ---       ┆   ┆ f64       ┆ to        ┆ reac…     ┆ (cm)     │\n",
      "│           ┆ i64       ┆ f64       ┆ f64       ┆   ┆           ┆ bodywei…  ┆ ---       ┆ ---      │\n",
      "│           ┆           ┆           ┆           ┆   ┆           ┆ ---       ┆ f64       ┆ f64      │\n",
      "│           ┆           ┆           ┆           ┆   ┆           ┆ f64       ┆           ┆          │\n",
      "╞═══════════╪═══════════╪═══════════╪═══════════╪═══╪═══════════╪═══════════╪═══════════╪══════════╡\n",
      "│ 1         ┆ 2007      ┆ 4.0       ┆ 5.5       ┆ … ┆ 5.0       ┆ 0.778523  ┆ 0.443023  ┆ 33.02    │\n",
      "│ 2         ┆ 2006      ┆ 2.0       ┆ 4.0       ┆ … ┆ 6.0       ┆ null      ┆ null      ┆ null     │\n",
      "│ 3         ┆ 2006      ┆ 5.0       ┆ 3.5       ┆ … ┆ null      ┆ 0.665049  ┆ 0.315528  ┆ 28.0     │\n",
      "│ 4         ┆ 2005      ┆ 8.0       ┆ 4.0       ┆ … ┆ null      ┆ 0.716741  ┆ 0.396416  ┆ 35.56    │\n",
      "│ 5         ┆ 2010      ┆ 2.0       ┆ 3.5       ┆ … ┆ 7.0       ┆ 1.146199  ┆ 0.530236  ┆ 44.45    │\n",
      "└───────────┴───────────┴───────────┴───────────┴───┴───────────┴───────────┴───────────┴──────────┘\n",
      "Rows: 99\n",
      "Columns: 21\n",
      "$ partcipant                                         <i64> 1, 2, 3, 4, 5, 6, 7, 8, 9, 10\n",
      "$ year athlete was born                              <i64> 2007, 2006, 2006, 2005, 2010, 2008, 2008, 2007, 2006, 2006\n",
      "$ climbing experience                                <f64> 4.0, 2.0, 5.0, 8.0, 2.0, 6.5, 8.0, 10.0, 10.0, 8.0\n",
      "$ climbing frequency per week                        <f64> 5.5, 4.0, 3.5, 4.0, 3.5, 4.0, 3.5, 5.0, 4.0, 4.0\n",
      "$ sex                                                <str> 'f', 'f', 'f', 'f', 'm', 'm', 'f', 'f', 'f', 'f'\n",
      "$ 20mm crimp strength absolute (KG)                  <f64> 46.4, 49.1, 31.071051999999998, 43.4994728, 39.2, 54.7, 39.3, 38.4, 44.3, 46.2\n",
      "$ power-slap test (distance in cm)                   <f64> 76.2, None, 50.8, 68.58, 78.74, 86.36, 80.01, 91.44, 81.28, 87.63\n",
      "$ pull-ups (reps)                                    <f64> None, None, 2.0, 5.0, 21.0, 17.0, 21.0, 14.0, 13.0, 15.0\n",
      "$ horizontl reach (cm)                               <f64> 172.0, None, 161.0, 173.0, 148.5, 175.5, 153.5, 161.0, 167.0, 174.5\n",
      "$ vertical reach (cm)                                <f64> 215.9, None, 203.0, 214.63, 182.88, 215.9, 199.39000000000001, 209.55, 209.55, 217.17000000000002\n",
      "$ vertical jump reach height (cm)                    <f64> 248.92000000000002, None, 231.0, 250.19, 227.33, 259.08, 236.22, 261.62, 245.11, 256.54\n",
      "$ intermittent crimp hang test (seconds)             <f64> None, None, 6.0, 34.0, 55.0, 80.0, 157.0, 57.0, 67.0, 101.0\n",
      "$ bodyweight (kg)                                    <f64> 59.6, None, 46.719976, 60.6906096, 34.2, 56.7, 40.7, 45.2, 51.1, 46.0\n",
      "$ Gym                                                <str> 'boulder parc', 'boulder parc', 'junction climbing london', 'junction climbing london', 'boulder parc', 'boulder parc', 'boulder parc', 'boulder parc', 'boulder parc', 'boulder parc'\n",
      "$ category                                           <str> 'youth a', 'youth a', 'youth a', 'senior', 'youth b', 'youth b', 'youth b', 'youth a', 'youth a', 'youth a'\n",
      "$ boulder grade #                                    <f64> 7.0, 7.0, 3.0, 6.0, 8.0, 7.0, 9.0, 8.0, 8.5, 9.0\n",
      "$ route grade # (IRCRA)                              <f64> 18.5, 20.0, 15.5, 19.5, 19.5, 19.5, 20.5, 20.5, 22.5, 23.5\n",
      "$ board grade #                                      <f64> 5.0, 6.0, None, None, 7.0, 7.0, 5.0, None, 7.0, 8.5\n",
      "$ 20mm crimp strength to bodyweight ratio            <f64> 0.7785234899328859, None, 0.6650485436893204, 0.7167414050822123, 1.1461988304093567, 0.9647266313932981, 0.9656019656019654, 0.8495575221238937, 0.8669275929549901, 1.0043478260869565\n",
      "$ power slap test (ratio of reach height to test di… <f64> 0.4430232558139535, None, 0.31552795031055897, 0.39641618497109826, 0.5302356902356902, 0.4920797720797721, 0.5212377850162867, 0.5679503105590062, 0.4867065868263473, 0.5021776504297994\n",
      "$ vertical jump height (cm)                          <f64> 33.02000000000001, None, 28.0, 35.56, 44.45000000000002, 43.17999999999998, 36.829999999999984, 52.06999999999999, 35.56, 39.370000000000005\n",
      "\n"
     ]
    }
   ],
   "source": [
    "# Load dataset\n",
    "\n",
    "# imports\n",
    "import numpy as np\n",
    "import polars as pl\n",
    "from sklearn.impute import SimpleImputer, KNNImputer\n",
    "from sklearn.compose import ColumnTransformer\n",
    "import polars.selectors as cs\n",
    "from lib.dfs import *\n",
    "\n",
    "\n",
    "# Loading Dataset\n",
    "df = pl.read_excel(\n",
    "    \"resources/climb_symlink.xlsx\",\n",
    "    # schema=dtype,\n",
    "    infer_schema_length=50,\n",
    ")\n",
    "df = df.with_columns((~cs.numeric()).custom.clean_str())\n",
    "\n",
    "print(df.head())\n",
    "df.glimpse()\n"
   ]
  },
  {
   "cell_type": "code",
   "execution_count": null,
   "metadata": {},
   "outputs": [
    {
     "name": "stdout",
     "output_type": "stream",
     "text": [
      "['partcipant', 'year athlete was born ', 'climbing experience', 'climbing frequency per week', 'sex', '20mm crimp strength absolute (KG)', 'power-slap test (distance in cm)', 'pull-ups (reps)', 'horizontl reach (cm)', 'vertical reach (cm)', 'vertical jump reach height (cm)', 'intermittent crimp hang test (seconds)', 'bodyweight (kg)', 'Gym', 'category', 'boulder grade #', 'route grade # (IRCRA)', 'board grade #', '20mm crimp strength to bodyweight ratio', 'power slap test (ratio of reach height to test distance)', 'vertical jump height (cm)']\n",
      "Rows: 1\n",
      "Columns: 21\n",
      "$ partcipant                                         <u32> 0\n",
      "$ year athlete was born                              <u32> 0\n",
      "$ climbing experience                                <u32> 0\n",
      "$ climbing frequency per week                        <u32> 0\n",
      "$ 20mm crimp strength absolute (KG)                  <u32> 0\n",
      "$ power-slap test (distance in cm)                   <u32> 0\n",
      "$ pull-ups (reps)                                    <u32> 0\n",
      "$ horizontl reach (cm)                               <u32> 0\n",
      "$ vertical reach (cm)                                <u32> 0\n",
      "$ vertical jump reach height (cm)                    <u32> 0\n",
      "$ intermittent crimp hang test (seconds)             <u32> 0\n",
      "$ bodyweight (kg)                                    <u32> 0\n",
      "$ boulder grade #                                    <u32> 0\n",
      "$ route grade # (IRCRA)                              <u32> 0\n",
      "$ board grade #                                      <u32> 0\n",
      "$ 20mm crimp strength to bodyweight ratio            <u32> 0\n",
      "$ power slap test (ratio of reach height to test di… <u32> 0\n",
      "$ vertical jump height (cm)                          <u32> 0\n",
      "$ sex                                                <u32> 0\n",
      "$ Gym                                                <u32> 0\n",
      "$ category                                           <u32> 10\n",
      "\n",
      "None\n"
     ]
    },
    {
     "data": {
      "text/plain": [
       "(96, 21)"
      ]
     },
     "execution_count": 2,
     "metadata": {},
     "output_type": "execute_result"
    }
   ],
   "source": [
    "# drop nulls\n",
    "print(df.columns)\n",
    "target = [\"boulder grade #\"]\n",
    "# target = [\"route grade # (IRCRA)\"]\n",
    "# target = [\"boulder grade #\", \"route grade # (IRCRA)\"]\n",
    "\n",
    "\n",
    "df = drop_rows(\n",
    "    df,\n",
    "    count_null=lambda row: sum(1 if row[k] in [None] else 0 for k in target),\n",
    ")\n",
    "\n",
    "transformer = ColumnTransformer(\n",
    "    transformers=[\n",
    "        (\n",
    "            \"num\",\n",
    "            SimpleImputer(missing_values=np.nan, strategy=\"mean\"),\n",
    "            df.select(cs.numeric()).columns,\n",
    "        ),\n",
    "    ],\n",
    "    remainder=\"passthrough\",\n",
    "    verbose_feature_names_out=False,\n",
    ")\n",
    "\n",
    "transformer.set_output(transform=\"polars\")\n",
    "\n",
    "df = transformer.fit_transform(df)\n",
    "\n",
    "print(df.null_count().glimpse())\n",
    "df.shape\n"
   ]
  },
  {
   "cell_type": "code",
   "execution_count": 3,
   "metadata": {},
   "outputs": [
    {
     "name": "stdout",
     "output_type": "stream",
     "text": [
      "Rows: 96\n",
      "Columns: 21\n",
      "$ partcipant                                         <f64> 1.0, 2.0, 3.0, 4.0, 5.0, 6.0, 7.0, 8.0, 9.0, 10.0\n",
      "$ year athlete was born                              <f64> 2007.0, 2006.0, 2006.0, 2005.0, 2010.0, 2008.0, 2008.0, 2007.0, 2006.0, 2006.0\n",
      "$ climbing experience                                <f64> 4.0, 2.0, 5.0, 8.0, 2.0, 6.5, 8.0, 10.0, 10.0, 8.0\n",
      "$ climbing frequency per week                        <f64> 5.5, 4.0, 3.5, 4.0, 3.5, 4.0, 3.5, 5.0, 4.0, 4.0\n",
      "$ 20mm crimp strength absolute (KG)                  <f64> 46.4, 49.1, 31.071051999999998, 43.4994728, 39.2, 54.7, 39.3, 38.4, 44.3, 46.2\n",
      "$ power-slap test (distance in cm)                   <f64> 76.2, 79.66537234042553, 50.8, 68.58, 78.74, 86.36, 80.01, 91.44, 81.28, 87.63\n",
      "$ pull-ups (reps)                                    <f64> 12.961538461538462, 12.961538461538462, 2.0, 5.0, 21.0, 17.0, 21.0, 14.0, 13.0, 15.0\n",
      "$ horizontl reach (cm)                               <f64> 172.0, 166.25304347826085, 161.0, 173.0, 148.5, 175.5, 153.5, 161.0, 167.0, 174.5\n",
      "$ vertical reach (cm)                                <f64> 215.9, 208.01478444444444, 203.0, 214.63, 182.88, 215.9, 199.39000000000001, 209.55, 209.55, 217.17000000000002\n",
      "$ vertical jump reach height (cm)                    <f64> 248.92000000000002, 250.33775555555556, 231.0, 250.19, 227.33, 259.08, 236.22, 261.62, 245.11, 256.54\n",
      "$ intermittent crimp hang test (seconds)             <f64> 57.33516483516483, 57.33516483516483, 6.0, 34.0, 55.0, 80.0, 157.0, 57.0, 67.0, 101.0\n",
      "$ bodyweight (kg)                                    <f64> 59.6, 51.110439159976245, 46.719976, 60.6906096, 34.2, 56.7, 40.7, 45.2, 51.1, 46.0\n",
      "$ boulder grade #                                    <f64> 7.0, 7.0, 3.0, 6.0, 8.0, 7.0, 9.0, 8.0, 8.5, 9.0\n",
      "$ route grade # (IRCRA)                              <f64> 18.5, 20.0, 15.5, 19.5, 19.5, 19.5, 20.5, 20.5, 22.5, 23.5\n",
      "$ board grade #                                      <f64> 5.0, 6.0, 6.016129032258065, 6.016129032258065, 7.0, 7.0, 5.0, 6.016129032258065, 7.0, 8.5\n",
      "$ 20mm crimp strength to bodyweight ratio            <f64> 0.7785234899328859, 0.8571438522788786, 0.6650485436893204, 0.7167414050822123, 1.1461988304093567, 0.9647266313932981, 0.9656019656019654, 0.8495575221238937, 0.8669275929549901, 1.0043478260869565\n",
      "$ power slap test (ratio of reach height to test di… <f64> 0.4430232558139535, 0.47806076338875986, 0.31552795031055897, 0.39641618497109826, 0.5302356902356902, 0.4920797720797721, 0.5212377850162867, 0.5679503105590062, 0.4867065868263473, 0.5021776504297994\n",
      "$ vertical jump height (cm)                          <f64> 33.02000000000001, 41.85788351648352, 28.0, 35.56, 44.45000000000002, 43.17999999999998, 36.829999999999984, 52.06999999999999, 35.56, 39.370000000000005\n",
      "$ sex                                                <str> 'f', 'f', 'f', 'f', 'm', 'm', 'f', 'f', 'f', 'f'\n",
      "$ Gym                                                <str> 'boulder parc', 'boulder parc', 'junction climbing london', 'junction climbing london', 'boulder parc', 'boulder parc', 'boulder parc', 'boulder parc', 'boulder parc', 'boulder parc'\n",
      "$ category                                           <str> 'youth a', 'youth a', 'youth a', 'senior', 'youth b', 'youth b', 'youth b', 'youth a', 'youth a', 'youth a'\n",
      "\n",
      "Rows: 96\n",
      "Columns: 27\n",
      "$ partcipant                                         <f64> 1.0, 2.0, 3.0, 4.0, 5.0, 6.0, 7.0, 8.0, 9.0, 10.0\n",
      "$ year athlete was born                              <f64> 2007.0, 2006.0, 2006.0, 2005.0, 2010.0, 2008.0, 2008.0, 2007.0, 2006.0, 2006.0\n",
      "$ climbing experience                                <f64> 4.0, 2.0, 5.0, 8.0, 2.0, 6.5, 8.0, 10.0, 10.0, 8.0\n",
      "$ climbing frequency per week                        <f64> 5.5, 4.0, 3.5, 4.0, 3.5, 4.0, 3.5, 5.0, 4.0, 4.0\n",
      "$ 20mm crimp strength absolute (KG)                  <f64> 46.4, 49.1, 31.071051999999998, 43.4994728, 39.2, 54.7, 39.3, 38.4, 44.3, 46.2\n",
      "$ power-slap test (distance in cm)                   <f64> 76.2, 79.66537234042553, 50.8, 68.58, 78.74, 86.36, 80.01, 91.44, 81.28, 87.63\n",
      "$ pull-ups (reps)                                    <f64> 12.961538461538462, 12.961538461538462, 2.0, 5.0, 21.0, 17.0, 21.0, 14.0, 13.0, 15.0\n",
      "$ horizontl reach (cm)                               <f64> 172.0, 166.25304347826085, 161.0, 173.0, 148.5, 175.5, 153.5, 161.0, 167.0, 174.5\n",
      "$ vertical reach (cm)                                <f64> 215.9, 208.01478444444444, 203.0, 214.63, 182.88, 215.9, 199.39000000000001, 209.55, 209.55, 217.17000000000002\n",
      "$ vertical jump reach height (cm)                    <f64> 248.92000000000002, 250.33775555555556, 231.0, 250.19, 227.33, 259.08, 236.22, 261.62, 245.11, 256.54\n",
      "$ intermittent crimp hang test (seconds)             <f64> 57.33516483516483, 57.33516483516483, 6.0, 34.0, 55.0, 80.0, 157.0, 57.0, 67.0, 101.0\n",
      "$ bodyweight (kg)                                    <f64> 59.6, 51.110439159976245, 46.719976, 60.6906096, 34.2, 56.7, 40.7, 45.2, 51.1, 46.0\n",
      "$ boulder grade #                                    <f64> 7.0, 7.0, 3.0, 6.0, 8.0, 7.0, 9.0, 8.0, 8.5, 9.0\n",
      "$ route grade # (IRCRA)                              <f64> 18.5, 20.0, 15.5, 19.5, 19.5, 19.5, 20.5, 20.5, 22.5, 23.5\n",
      "$ board grade #                                      <f64> 5.0, 6.0, 6.016129032258065, 6.016129032258065, 7.0, 7.0, 5.0, 6.016129032258065, 7.0, 8.5\n",
      "$ 20mm crimp strength to bodyweight ratio            <f64> 0.7785234899328859, 0.8571438522788786, 0.6650485436893204, 0.7167414050822123, 1.1461988304093567, 0.9647266313932981, 0.9656019656019654, 0.8495575221238937, 0.8669275929549901, 1.0043478260869565\n",
      "$ power slap test (ratio of reach height to test di… <f64> 0.4430232558139535, 0.47806076338875986, 0.31552795031055897, 0.39641618497109826, 0.5302356902356902, 0.4920797720797721, 0.5212377850162867, 0.5679503105590062, 0.4867065868263473, 0.5021776504297994\n",
      "$ vertical jump height (cm)                          <f64> 33.02000000000001, 41.85788351648352, 28.0, 35.56, 44.45000000000002, 43.17999999999998, 36.829999999999984, 52.06999999999999, 35.56, 39.370000000000005\n",
      "$ sex_m                                               <u8> 0, 0, 0, 0, 1, 1, 0, 0, 0, 0\n",
      "$ Gym_aspire whitby                                   <u8> 0, 0, 0, 0, 0, 0, 0, 0, 0, 0\n",
      "$ Gym_bolder climbing                                 <u8> 0, 0, 0, 0, 0, 0, 0, 0, 0, 0\n",
      "$ Gym_boulder parcscarburough                         <u8> 0, 0, 0, 0, 0, 0, 0, 0, 0, 0\n",
      "$ Gym_junction climbing london                        <u8> 0, 0, 1, 1, 0, 0, 0, 0, 0, 0\n",
      "$ category_senior                                     <u8> 0, 0, 0, 1, 0, 0, 0, 0, 0, 0\n",
      "$ category_youth b                                    <u8> 0, 0, 0, 0, 1, 1, 1, 0, 0, 0\n",
      "$ category_youth c                                    <u8> 0, 0, 0, 0, 0, 0, 0, 0, 0, 0\n",
      "$ category_youth d                                    <u8> 0, 0, 0, 0, 0, 0, 0, 0, 0, 0\n",
      "\n"
     ]
    }
   ],
   "source": [
    "# Imputing Values\n",
    "df.glimpse()\n",
    "df = process_categoricals(df)\n",
    "\n",
    "df.glimpse()"
   ]
  }
 ],
 "metadata": {
  "kernelspec": {
   "display_name": "default",
   "language": "python",
   "name": "python3"
  },
  "language_info": {
   "codemirror_mode": {
    "name": "ipython",
    "version": 3
   },
   "file_extension": ".py",
   "mimetype": "text/x-python",
   "name": "python",
   "nbconvert_exporter": "python",
   "pygments_lexer": "ipython3",
   "version": "3.12.7"
  }
 },
 "nbformat": 4,
 "nbformat_minor": 2
}
